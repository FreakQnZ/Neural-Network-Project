{
 "cells": [
  {
   "cell_type": "code",
   "execution_count": 1,
   "metadata": {},
   "outputs": [],
   "source": [
    "import tensorflow as tf\n",
    "import pandas as pd \n",
    "import numpy as np \n",
    "import matplotlib.pyplot as plt "
   ]
  },
  {
   "cell_type": "code",
   "execution_count": 3,
   "metadata": {},
   "outputs": [],
   "source": [
    "df = pd.read_csv('Data_Set.csv')"
   ]
  },
  {
   "cell_type": "code",
   "execution_count": 4,
   "metadata": {},
   "outputs": [],
   "source": [
    "df.drop(columns=['RowNumber', 'CustomerId', 'Surname'], inplace=True)"
   ]
  },
  {
   "cell_type": "code",
   "execution_count": 5,
   "metadata": {},
   "outputs": [],
   "source": [
    "df.Gender.replace({'Male':0, 'Female':1}, inplace=True)"
   ]
  },
  {
   "cell_type": "code",
   "execution_count": 6,
   "metadata": {},
   "outputs": [],
   "source": [
    "from sklearn.preprocessing import MinMaxScaler"
   ]
  },
  {
   "cell_type": "code",
   "execution_count": 7,
   "metadata": {},
   "outputs": [],
   "source": [
    "scaling = ['Age', 'Tenure', 'Balance', 'NumOfProducts', 'EstimatedSalary', 'CreditScore']\n",
    "df[scaling] = MinMaxScaler().fit_transform(df[scaling])"
   ]
  },
  {
   "cell_type": "code",
   "execution_count": 8,
   "metadata": {},
   "outputs": [],
   "source": [
    "df_set = pd.get_dummies(data=df, columns=['Geography'])"
   ]
  },
  {
   "cell_type": "code",
   "execution_count": 9,
   "metadata": {},
   "outputs": [],
   "source": [
    "Y = df_set['Exited']\n",
    "X = df_set.drop(columns=['Exited'])"
   ]
  },
  {
   "cell_type": "code",
   "execution_count": 10,
   "metadata": {},
   "outputs": [],
   "source": [
    "from sklearn.model_selection import train_test_split\n",
    "X_train, X_test, Y_train , Y_test = train_test_split(X,Y,test_size=0.2,random_state = 7)"
   ]
  },
  {
   "cell_type": "code",
   "execution_count": 11,
   "metadata": {},
   "outputs": [],
   "source": [
    "model_new = tf.keras.Sequential([\n",
    "    tf.keras.layers.Dense(1, input_shape = (12,), activation='sigmoid')\n",
    "    # tf.keras.layers.Dense(16, activation='relu'),\n",
    "    # tf.keras.layers.Dense(18, activation='relu'),\n",
    "    # tf.keras.layers.Dropout(0.2),\n",
    "    # tf.keras.layers.Dense(12, activation='relu'),\n",
    "    # tf.keras.layers.Dense(1, activation='sigmoid')\n",
    "])"
   ]
  },
  {
   "cell_type": "code",
   "execution_count": 12,
   "metadata": {},
   "outputs": [],
   "source": [
    "model_new.compile(\n",
    "    optimizer='adam',\n",
    "    loss = 'binary_crossentropy',\n",
    "    metrics = ['accuracy']\n",
    ")"
   ]
  },
  {
   "cell_type": "code",
   "execution_count": 50,
   "metadata": {},
   "outputs": [
    {
     "name": "stdout",
     "output_type": "stream",
     "text": [
      "The tensorboard extension is already loaded. To reload it, use:\n",
      "  %reload_ext tensorboard\n"
     ]
    }
   ],
   "source": [
    "%load_ext tensorboard"
   ]
  },
  {
   "cell_type": "code",
   "execution_count": 51,
   "metadata": {},
   "outputs": [],
   "source": [
    "from tensorflow.keras.callbacks import TensorBoard"
   ]
  },
  {
   "cell_type": "code",
   "execution_count": 52,
   "metadata": {},
   "outputs": [],
   "source": [
    "log_folder = 'logs'\n",
    "callbacks = TensorBoard(log_dir=log_folder, histogram_freq=1)"
   ]
  },
  {
   "cell_type": "code",
   "execution_count": 13,
   "metadata": {},
   "outputs": [
    {
     "name": "stdout",
     "output_type": "stream",
     "text": [
      "Epoch 1/200\n",
      "250/250 [==============================] - 2s 3ms/step - loss: 0.5916 - accuracy: 0.7056\n",
      "Epoch 2/200\n",
      "250/250 [==============================] - 1s 3ms/step - loss: 0.5005 - accuracy: 0.7960\n",
      "Epoch 3/200\n",
      "250/250 [==============================] - 1s 4ms/step - loss: 0.4891 - accuracy: 0.7968\n",
      "Epoch 4/200\n",
      "250/250 [==============================] - 1s 4ms/step - loss: 0.4837 - accuracy: 0.7968\n",
      "Epoch 5/200\n",
      "250/250 [==============================] - 1s 3ms/step - loss: 0.4790 - accuracy: 0.7971\n",
      "Epoch 6/200\n",
      "250/250 [==============================] - 1s 4ms/step - loss: 0.4748 - accuracy: 0.7976\n",
      "Epoch 7/200\n",
      "250/250 [==============================] - 1s 3ms/step - loss: 0.4712 - accuracy: 0.7979\n",
      "Epoch 8/200\n",
      "250/250 [==============================] - 1s 3ms/step - loss: 0.4680 - accuracy: 0.7984\n",
      "Epoch 9/200\n",
      "250/250 [==============================] - 1s 3ms/step - loss: 0.4651 - accuracy: 0.7994\n",
      "Epoch 10/200\n",
      "250/250 [==============================] - 1s 3ms/step - loss: 0.4628 - accuracy: 0.8000\n",
      "Epoch 11/200\n",
      "250/250 [==============================] - 1s 3ms/step - loss: 0.4605 - accuracy: 0.8006\n",
      "Epoch 12/200\n",
      "250/250 [==============================] - 1s 3ms/step - loss: 0.4585 - accuracy: 0.8015\n",
      "Epoch 13/200\n",
      "250/250 [==============================] - 1s 3ms/step - loss: 0.4569 - accuracy: 0.8023\n",
      "Epoch 14/200\n",
      "250/250 [==============================] - 1s 3ms/step - loss: 0.4553 - accuracy: 0.8030\n",
      "Epoch 15/200\n",
      "250/250 [==============================] - 1s 3ms/step - loss: 0.4539 - accuracy: 0.8050\n",
      "Epoch 16/200\n",
      "250/250 [==============================] - 1s 3ms/step - loss: 0.4525 - accuracy: 0.8041\n",
      "Epoch 17/200\n",
      "250/250 [==============================] - 1s 3ms/step - loss: 0.4513 - accuracy: 0.8052\n",
      "Epoch 18/200\n",
      "250/250 [==============================] - 1s 3ms/step - loss: 0.4502 - accuracy: 0.8048\n",
      "Epoch 19/200\n",
      "250/250 [==============================] - 1s 3ms/step - loss: 0.4491 - accuracy: 0.8064\n",
      "Epoch 20/200\n",
      "250/250 [==============================] - 1s 3ms/step - loss: 0.4481 - accuracy: 0.8060\n",
      "Epoch 21/200\n",
      "250/250 [==============================] - 1s 3ms/step - loss: 0.4472 - accuracy: 0.8069\n",
      "Epoch 22/200\n",
      "250/250 [==============================] - 1s 3ms/step - loss: 0.4464 - accuracy: 0.8074\n",
      "Epoch 23/200\n",
      "250/250 [==============================] - 1s 3ms/step - loss: 0.4455 - accuracy: 0.8077\n",
      "Epoch 24/200\n",
      "250/250 [==============================] - 1s 3ms/step - loss: 0.4447 - accuracy: 0.8091\n",
      "Epoch 25/200\n",
      "250/250 [==============================] - 1s 3ms/step - loss: 0.4440 - accuracy: 0.8086\n",
      "Epoch 26/200\n",
      "250/250 [==============================] - 1s 4ms/step - loss: 0.4432 - accuracy: 0.8096\n",
      "Epoch 27/200\n",
      "250/250 [==============================] - 1s 3ms/step - loss: 0.4426 - accuracy: 0.8090\n",
      "Epoch 28/200\n",
      "250/250 [==============================] - 1s 3ms/step - loss: 0.4420 - accuracy: 0.8102\n",
      "Epoch 29/200\n",
      "250/250 [==============================] - 1s 3ms/step - loss: 0.4414 - accuracy: 0.8094\n",
      "Epoch 30/200\n",
      "250/250 [==============================] - 1s 4ms/step - loss: 0.4409 - accuracy: 0.8100\n",
      "Epoch 31/200\n",
      "250/250 [==============================] - 1s 3ms/step - loss: 0.4403 - accuracy: 0.8108\n",
      "Epoch 32/200\n",
      "250/250 [==============================] - 1s 3ms/step - loss: 0.4398 - accuracy: 0.8111\n",
      "Epoch 33/200\n",
      "250/250 [==============================] - 1s 3ms/step - loss: 0.4394 - accuracy: 0.8112\n",
      "Epoch 34/200\n",
      "250/250 [==============================] - 1s 3ms/step - loss: 0.4389 - accuracy: 0.8114\n",
      "Epoch 35/200\n",
      "250/250 [==============================] - 1s 3ms/step - loss: 0.4385 - accuracy: 0.8116\n",
      "Epoch 36/200\n",
      "250/250 [==============================] - 1s 3ms/step - loss: 0.4381 - accuracy: 0.8119\n",
      "Epoch 37/200\n",
      "250/250 [==============================] - 1s 3ms/step - loss: 0.4377 - accuracy: 0.8112\n",
      "Epoch 38/200\n",
      "250/250 [==============================] - 1s 4ms/step - loss: 0.4372 - accuracy: 0.8106\n",
      "Epoch 39/200\n",
      "250/250 [==============================] - 1s 3ms/step - loss: 0.4369 - accuracy: 0.8114\n",
      "Epoch 40/200\n",
      "250/250 [==============================] - 1s 3ms/step - loss: 0.4366 - accuracy: 0.8114\n",
      "Epoch 41/200\n",
      "250/250 [==============================] - 1s 3ms/step - loss: 0.4363 - accuracy: 0.8110\n",
      "Epoch 42/200\n",
      "250/250 [==============================] - 1s 3ms/step - loss: 0.4360 - accuracy: 0.8104\n",
      "Epoch 43/200\n",
      "250/250 [==============================] - 1s 3ms/step - loss: 0.4357 - accuracy: 0.8115\n",
      "Epoch 44/200\n",
      "250/250 [==============================] - 1s 3ms/step - loss: 0.4354 - accuracy: 0.8111\n",
      "Epoch 45/200\n",
      "250/250 [==============================] - 1s 3ms/step - loss: 0.4352 - accuracy: 0.8111\n",
      "Epoch 46/200\n",
      "250/250 [==============================] - 1s 4ms/step - loss: 0.4349 - accuracy: 0.8105\n",
      "Epoch 47/200\n",
      "250/250 [==============================] - 1s 3ms/step - loss: 0.4348 - accuracy: 0.8112\n",
      "Epoch 48/200\n",
      "250/250 [==============================] - 1s 3ms/step - loss: 0.4345 - accuracy: 0.8096\n",
      "Epoch 49/200\n",
      "250/250 [==============================] - 1s 3ms/step - loss: 0.4342 - accuracy: 0.8111\n",
      "Epoch 50/200\n",
      "250/250 [==============================] - 1s 3ms/step - loss: 0.4340 - accuracy: 0.8106\n",
      "Epoch 51/200\n",
      "250/250 [==============================] - 1s 3ms/step - loss: 0.4339 - accuracy: 0.8109\n",
      "Epoch 52/200\n",
      "250/250 [==============================] - 1s 3ms/step - loss: 0.4337 - accuracy: 0.8108\n",
      "Epoch 53/200\n",
      "250/250 [==============================] - 1s 3ms/step - loss: 0.4335 - accuracy: 0.8114\n",
      "Epoch 54/200\n",
      "250/250 [==============================] - 1s 3ms/step - loss: 0.4334 - accuracy: 0.8101\n",
      "Epoch 55/200\n",
      "250/250 [==============================] - 1s 2ms/step - loss: 0.4331 - accuracy: 0.8115\n",
      "Epoch 56/200\n",
      "250/250 [==============================] - 1s 2ms/step - loss: 0.4330 - accuracy: 0.8105\n",
      "Epoch 57/200\n",
      "250/250 [==============================] - 1s 2ms/step - loss: 0.4329 - accuracy: 0.8101\n",
      "Epoch 58/200\n",
      "250/250 [==============================] - 1s 2ms/step - loss: 0.4328 - accuracy: 0.8106\n",
      "Epoch 59/200\n",
      "250/250 [==============================] - 1s 2ms/step - loss: 0.4326 - accuracy: 0.8104\n",
      "Epoch 60/200\n",
      "250/250 [==============================] - 1s 2ms/step - loss: 0.4325 - accuracy: 0.8111\n",
      "Epoch 61/200\n",
      "250/250 [==============================] - 1s 2ms/step - loss: 0.4323 - accuracy: 0.8109\n",
      "Epoch 62/200\n",
      "250/250 [==============================] - 1s 3ms/step - loss: 0.4322 - accuracy: 0.8105\n",
      "Epoch 63/200\n",
      "250/250 [==============================] - 1s 4ms/step - loss: 0.4321 - accuracy: 0.8106\n",
      "Epoch 64/200\n",
      "250/250 [==============================] - 1s 3ms/step - loss: 0.4320 - accuracy: 0.8102\n",
      "Epoch 65/200\n",
      "250/250 [==============================] - 1s 3ms/step - loss: 0.4320 - accuracy: 0.8108\n",
      "Epoch 66/200\n",
      "250/250 [==============================] - 1s 3ms/step - loss: 0.4319 - accuracy: 0.8108\n",
      "Epoch 67/200\n",
      "250/250 [==============================] - 1s 3ms/step - loss: 0.4317 - accuracy: 0.8110\n",
      "Epoch 68/200\n",
      "250/250 [==============================] - 1s 3ms/step - loss: 0.4316 - accuracy: 0.8110\n",
      "Epoch 69/200\n",
      "250/250 [==============================] - 1s 3ms/step - loss: 0.4316 - accuracy: 0.8117\n",
      "Epoch 70/200\n",
      "250/250 [==============================] - 1s 3ms/step - loss: 0.4315 - accuracy: 0.8111\n",
      "Epoch 71/200\n",
      "250/250 [==============================] - 1s 3ms/step - loss: 0.4314 - accuracy: 0.8119\n",
      "Epoch 72/200\n",
      "250/250 [==============================] - 1s 3ms/step - loss: 0.4313 - accuracy: 0.8108\n",
      "Epoch 73/200\n",
      "250/250 [==============================] - 1s 3ms/step - loss: 0.4312 - accuracy: 0.8125\n",
      "Epoch 74/200\n",
      "250/250 [==============================] - 1s 3ms/step - loss: 0.4312 - accuracy: 0.8119\n",
      "Epoch 75/200\n",
      "250/250 [==============================] - 1s 3ms/step - loss: 0.4311 - accuracy: 0.8111\n",
      "Epoch 76/200\n",
      "250/250 [==============================] - 1s 3ms/step - loss: 0.4311 - accuracy: 0.8117\n",
      "Epoch 77/200\n",
      "250/250 [==============================] - 1s 4ms/step - loss: 0.4310 - accuracy: 0.8123\n",
      "Epoch 78/200\n",
      "250/250 [==============================] - 1s 3ms/step - loss: 0.4309 - accuracy: 0.8125\n",
      "Epoch 79/200\n",
      "250/250 [==============================] - 1s 3ms/step - loss: 0.4309 - accuracy: 0.8119\n",
      "Epoch 80/200\n",
      "250/250 [==============================] - 1s 3ms/step - loss: 0.4308 - accuracy: 0.8127\n",
      "Epoch 81/200\n",
      "250/250 [==============================] - 1s 3ms/step - loss: 0.4308 - accuracy: 0.8133\n",
      "Epoch 82/200\n",
      "250/250 [==============================] - 1s 3ms/step - loss: 0.4306 - accuracy: 0.8135\n",
      "Epoch 83/200\n",
      "250/250 [==============================] - 1s 4ms/step - loss: 0.4307 - accuracy: 0.8127\n",
      "Epoch 84/200\n",
      "250/250 [==============================] - 1s 3ms/step - loss: 0.4306 - accuracy: 0.8124\n",
      "Epoch 85/200\n",
      "250/250 [==============================] - 1s 3ms/step - loss: 0.4307 - accuracy: 0.8129\n",
      "Epoch 86/200\n",
      "250/250 [==============================] - 1s 3ms/step - loss: 0.4306 - accuracy: 0.8131\n",
      "Epoch 87/200\n",
      "250/250 [==============================] - 1s 3ms/step - loss: 0.4306 - accuracy: 0.8133\n",
      "Epoch 88/200\n",
      "250/250 [==============================] - 1s 3ms/step - loss: 0.4304 - accuracy: 0.8127\n",
      "Epoch 89/200\n",
      "250/250 [==============================] - 1s 4ms/step - loss: 0.4304 - accuracy: 0.8138\n",
      "Epoch 90/200\n",
      "250/250 [==============================] - 1s 3ms/step - loss: 0.4304 - accuracy: 0.8123\n",
      "Epoch 91/200\n",
      "250/250 [==============================] - 1s 3ms/step - loss: 0.4303 - accuracy: 0.8130\n",
      "Epoch 92/200\n",
      "250/250 [==============================] - 1s 3ms/step - loss: 0.4303 - accuracy: 0.8129\n",
      "Epoch 93/200\n",
      "250/250 [==============================] - 1s 3ms/step - loss: 0.4303 - accuracy: 0.8117\n",
      "Epoch 94/200\n",
      "250/250 [==============================] - 1s 3ms/step - loss: 0.4302 - accuracy: 0.8135\n",
      "Epoch 95/200\n",
      "250/250 [==============================] - 1s 3ms/step - loss: 0.4302 - accuracy: 0.8135\n",
      "Epoch 96/200\n",
      "250/250 [==============================] - 1s 3ms/step - loss: 0.4302 - accuracy: 0.8125\n",
      "Epoch 97/200\n",
      "250/250 [==============================] - 1s 2ms/step - loss: 0.4301 - accuracy: 0.8131\n",
      "Epoch 98/200\n",
      "250/250 [==============================] - 1s 2ms/step - loss: 0.4301 - accuracy: 0.8127\n",
      "Epoch 99/200\n",
      "250/250 [==============================] - 1s 3ms/step - loss: 0.4300 - accuracy: 0.8140\n",
      "Epoch 100/200\n",
      "250/250 [==============================] - 1s 2ms/step - loss: 0.4300 - accuracy: 0.8120\n",
      "Epoch 101/200\n",
      "250/250 [==============================] - 1s 2ms/step - loss: 0.4300 - accuracy: 0.8135\n",
      "Epoch 102/200\n",
      "250/250 [==============================] - 1s 2ms/step - loss: 0.4300 - accuracy: 0.8124\n",
      "Epoch 103/200\n",
      "250/250 [==============================] - 1s 2ms/step - loss: 0.4300 - accuracy: 0.8121\n",
      "Epoch 104/200\n",
      "250/250 [==============================] - 1s 2ms/step - loss: 0.4300 - accuracy: 0.8124\n",
      "Epoch 105/200\n",
      "250/250 [==============================] - 1s 3ms/step - loss: 0.4299 - accuracy: 0.8119\n",
      "Epoch 106/200\n",
      "250/250 [==============================] - 1s 2ms/step - loss: 0.4299 - accuracy: 0.8133\n",
      "Epoch 107/200\n",
      "250/250 [==============================] - 1s 2ms/step - loss: 0.4299 - accuracy: 0.8124\n",
      "Epoch 108/200\n",
      "250/250 [==============================] - 1s 2ms/step - loss: 0.4299 - accuracy: 0.8133\n",
      "Epoch 109/200\n",
      "250/250 [==============================] - 1s 2ms/step - loss: 0.4299 - accuracy: 0.8120\n",
      "Epoch 110/200\n",
      "250/250 [==============================] - 1s 2ms/step - loss: 0.4299 - accuracy: 0.8121\n",
      "Epoch 111/200\n",
      "250/250 [==============================] - 1s 3ms/step - loss: 0.4298 - accuracy: 0.8121\n",
      "Epoch 112/200\n",
      "250/250 [==============================] - 1s 2ms/step - loss: 0.4298 - accuracy: 0.8123\n",
      "Epoch 113/200\n",
      "250/250 [==============================] - 1s 3ms/step - loss: 0.4298 - accuracy: 0.8127\n",
      "Epoch 114/200\n",
      "250/250 [==============================] - 1s 2ms/step - loss: 0.4298 - accuracy: 0.8120\n",
      "Epoch 115/200\n",
      "250/250 [==============================] - 1s 2ms/step - loss: 0.4298 - accuracy: 0.8126\n",
      "Epoch 116/200\n",
      "250/250 [==============================] - 1s 2ms/step - loss: 0.4298 - accuracy: 0.8119\n",
      "Epoch 117/200\n",
      "250/250 [==============================] - 1s 2ms/step - loss: 0.4298 - accuracy: 0.8120\n",
      "Epoch 118/200\n",
      "250/250 [==============================] - 1s 2ms/step - loss: 0.4297 - accuracy: 0.8119\n",
      "Epoch 119/200\n",
      "250/250 [==============================] - 1s 3ms/step - loss: 0.4297 - accuracy: 0.8121\n",
      "Epoch 120/200\n",
      "250/250 [==============================] - 1s 3ms/step - loss: 0.4297 - accuracy: 0.8119\n",
      "Epoch 121/200\n",
      "250/250 [==============================] - 1s 2ms/step - loss: 0.4297 - accuracy: 0.8120\n",
      "Epoch 122/200\n",
      "250/250 [==============================] - 1s 2ms/step - loss: 0.4297 - accuracy: 0.8117\n",
      "Epoch 123/200\n",
      "250/250 [==============================] - 1s 2ms/step - loss: 0.4297 - accuracy: 0.8123\n",
      "Epoch 124/200\n",
      "250/250 [==============================] - 1s 2ms/step - loss: 0.4297 - accuracy: 0.8117\n",
      "Epoch 125/200\n",
      "250/250 [==============================] - 1s 3ms/step - loss: 0.4297 - accuracy: 0.8127\n",
      "Epoch 126/200\n",
      "250/250 [==============================] - 1s 2ms/step - loss: 0.4296 - accuracy: 0.8123\n",
      "Epoch 127/200\n",
      "250/250 [==============================] - 1s 3ms/step - loss: 0.4296 - accuracy: 0.8121\n",
      "Epoch 128/200\n",
      "250/250 [==============================] - 1s 3ms/step - loss: 0.4297 - accuracy: 0.8117\n",
      "Epoch 129/200\n",
      "250/250 [==============================] - 1s 2ms/step - loss: 0.4296 - accuracy: 0.8123\n",
      "Epoch 130/200\n",
      "250/250 [==============================] - 1s 3ms/step - loss: 0.4295 - accuracy: 0.8116\n",
      "Epoch 131/200\n",
      "250/250 [==============================] - 1s 3ms/step - loss: 0.4297 - accuracy: 0.8124\n",
      "Epoch 132/200\n",
      "250/250 [==============================] - 1s 3ms/step - loss: 0.4296 - accuracy: 0.8130\n",
      "Epoch 133/200\n",
      "250/250 [==============================] - 1s 3ms/step - loss: 0.4296 - accuracy: 0.8119\n",
      "Epoch 134/200\n",
      "250/250 [==============================] - 1s 4ms/step - loss: 0.4296 - accuracy: 0.8125\n",
      "Epoch 135/200\n",
      "250/250 [==============================] - 1s 4ms/step - loss: 0.4297 - accuracy: 0.8127\n",
      "Epoch 136/200\n",
      "250/250 [==============================] - 1s 4ms/step - loss: 0.4296 - accuracy: 0.8123\n",
      "Epoch 137/200\n",
      "250/250 [==============================] - 1s 4ms/step - loss: 0.4296 - accuracy: 0.8112\n",
      "Epoch 138/200\n",
      "250/250 [==============================] - 1s 3ms/step - loss: 0.4295 - accuracy: 0.8117\n",
      "Epoch 139/200\n",
      "250/250 [==============================] - 1s 4ms/step - loss: 0.4296 - accuracy: 0.8121\n",
      "Epoch 140/200\n",
      "250/250 [==============================] - 1s 4ms/step - loss: 0.4296 - accuracy: 0.8119\n",
      "Epoch 141/200\n",
      "250/250 [==============================] - 1s 3ms/step - loss: 0.4295 - accuracy: 0.8119\n",
      "Epoch 142/200\n",
      "250/250 [==============================] - 1s 4ms/step - loss: 0.4295 - accuracy: 0.8109\n",
      "Epoch 143/200\n",
      "250/250 [==============================] - 1s 4ms/step - loss: 0.4297 - accuracy: 0.8124\n",
      "Epoch 144/200\n",
      "250/250 [==============================] - 1s 4ms/step - loss: 0.4295 - accuracy: 0.8121\n",
      "Epoch 145/200\n",
      "250/250 [==============================] - 1s 3ms/step - loss: 0.4296 - accuracy: 0.8127\n",
      "Epoch 146/200\n",
      "250/250 [==============================] - 1s 4ms/step - loss: 0.4295 - accuracy: 0.8123\n",
      "Epoch 147/200\n",
      "250/250 [==============================] - 1s 3ms/step - loss: 0.4296 - accuracy: 0.8116\n",
      "Epoch 148/200\n",
      "250/250 [==============================] - 1s 4ms/step - loss: 0.4295 - accuracy: 0.8119\n",
      "Epoch 149/200\n",
      "250/250 [==============================] - 1s 3ms/step - loss: 0.4295 - accuracy: 0.8119\n",
      "Epoch 150/200\n",
      "250/250 [==============================] - 1s 3ms/step - loss: 0.4295 - accuracy: 0.8121\n",
      "Epoch 151/200\n",
      "250/250 [==============================] - 1s 3ms/step - loss: 0.4296 - accuracy: 0.8120\n",
      "Epoch 152/200\n",
      "250/250 [==============================] - 1s 4ms/step - loss: 0.4295 - accuracy: 0.8121\n",
      "Epoch 153/200\n",
      "250/250 [==============================] - 1s 5ms/step - loss: 0.4295 - accuracy: 0.8110\n",
      "Epoch 154/200\n",
      "250/250 [==============================] - 1s 3ms/step - loss: 0.4295 - accuracy: 0.8112\n",
      "Epoch 155/200\n",
      "250/250 [==============================] - 1s 3ms/step - loss: 0.4295 - accuracy: 0.8124\n",
      "Epoch 156/200\n",
      "250/250 [==============================] - 1s 3ms/step - loss: 0.4295 - accuracy: 0.8112\n",
      "Epoch 157/200\n",
      "250/250 [==============================] - 1s 3ms/step - loss: 0.4295 - accuracy: 0.8116\n",
      "Epoch 158/200\n",
      "250/250 [==============================] - 1s 3ms/step - loss: 0.4294 - accuracy: 0.8121\n",
      "Epoch 159/200\n",
      "250/250 [==============================] - 1s 2ms/step - loss: 0.4294 - accuracy: 0.8111\n",
      "Epoch 160/200\n",
      "250/250 [==============================] - 1s 3ms/step - loss: 0.4295 - accuracy: 0.8120\n",
      "Epoch 161/200\n",
      "250/250 [==============================] - 1s 3ms/step - loss: 0.4295 - accuracy: 0.8111\n",
      "Epoch 162/200\n",
      "250/250 [==============================] - 1s 4ms/step - loss: 0.4295 - accuracy: 0.8121\n",
      "Epoch 163/200\n",
      "250/250 [==============================] - 1s 3ms/step - loss: 0.4295 - accuracy: 0.8120\n",
      "Epoch 164/200\n",
      "250/250 [==============================] - 1s 3ms/step - loss: 0.4294 - accuracy: 0.8119\n",
      "Epoch 165/200\n",
      "250/250 [==============================] - 1s 3ms/step - loss: 0.4295 - accuracy: 0.8121\n",
      "Epoch 166/200\n",
      "250/250 [==============================] - 1s 3ms/step - loss: 0.4295 - accuracy: 0.8114\n",
      "Epoch 167/200\n",
      "250/250 [==============================] - 1s 3ms/step - loss: 0.4294 - accuracy: 0.8121\n",
      "Epoch 168/200\n",
      "250/250 [==============================] - 1s 3ms/step - loss: 0.4295 - accuracy: 0.8117\n",
      "Epoch 169/200\n",
      "250/250 [==============================] - 1s 4ms/step - loss: 0.4295 - accuracy: 0.8112\n",
      "Epoch 170/200\n",
      "250/250 [==============================] - 1s 4ms/step - loss: 0.4294 - accuracy: 0.8110\n",
      "Epoch 171/200\n",
      "250/250 [==============================] - 1s 3ms/step - loss: 0.4294 - accuracy: 0.8116\n",
      "Epoch 172/200\n",
      "250/250 [==============================] - 1s 3ms/step - loss: 0.4294 - accuracy: 0.8123\n",
      "Epoch 173/200\n",
      "250/250 [==============================] - 1s 3ms/step - loss: 0.4295 - accuracy: 0.8112\n",
      "Epoch 174/200\n",
      "250/250 [==============================] - 1s 3ms/step - loss: 0.4294 - accuracy: 0.8115\n",
      "Epoch 175/200\n",
      "250/250 [==============================] - 1s 3ms/step - loss: 0.4294 - accuracy: 0.8126\n",
      "Epoch 176/200\n",
      "250/250 [==============================] - 1s 3ms/step - loss: 0.4295 - accuracy: 0.8106\n",
      "Epoch 177/200\n",
      "250/250 [==============================] - 1s 3ms/step - loss: 0.4295 - accuracy: 0.8117\n",
      "Epoch 178/200\n",
      "250/250 [==============================] - 1s 3ms/step - loss: 0.4294 - accuracy: 0.8110\n",
      "Epoch 179/200\n",
      "250/250 [==============================] - 1s 3ms/step - loss: 0.4294 - accuracy: 0.8125\n",
      "Epoch 180/200\n",
      "250/250 [==============================] - 1s 3ms/step - loss: 0.4294 - accuracy: 0.8112\n",
      "Epoch 181/200\n",
      "250/250 [==============================] - 1s 3ms/step - loss: 0.4295 - accuracy: 0.8112\n",
      "Epoch 182/200\n",
      "250/250 [==============================] - 1s 3ms/step - loss: 0.4294 - accuracy: 0.8115\n",
      "Epoch 183/200\n",
      "250/250 [==============================] - 1s 3ms/step - loss: 0.4295 - accuracy: 0.8112\n",
      "Epoch 184/200\n",
      "250/250 [==============================] - 1s 4ms/step - loss: 0.4294 - accuracy: 0.8124\n",
      "Epoch 185/200\n",
      "250/250 [==============================] - 1s 3ms/step - loss: 0.4295 - accuracy: 0.8111\n",
      "Epoch 186/200\n",
      "250/250 [==============================] - 1s 3ms/step - loss: 0.4293 - accuracy: 0.8114\n",
      "Epoch 187/200\n",
      "250/250 [==============================] - 1s 3ms/step - loss: 0.4295 - accuracy: 0.8108\n",
      "Epoch 188/200\n",
      "250/250 [==============================] - 1s 4ms/step - loss: 0.4294 - accuracy: 0.8115\n",
      "Epoch 189/200\n",
      "250/250 [==============================] - 1s 3ms/step - loss: 0.4294 - accuracy: 0.8120\n",
      "Epoch 190/200\n",
      "250/250 [==============================] - 1s 3ms/step - loss: 0.4295 - accuracy: 0.8115\n",
      "Epoch 191/200\n",
      "250/250 [==============================] - 1s 3ms/step - loss: 0.4295 - accuracy: 0.8115\n",
      "Epoch 192/200\n",
      "250/250 [==============================] - 1s 3ms/step - loss: 0.4295 - accuracy: 0.8121\n",
      "Epoch 193/200\n",
      "250/250 [==============================] - 1s 3ms/step - loss: 0.4294 - accuracy: 0.8129\n",
      "Epoch 194/200\n",
      "250/250 [==============================] - 1s 3ms/step - loss: 0.4294 - accuracy: 0.8123\n",
      "Epoch 195/200\n",
      "250/250 [==============================] - 1s 3ms/step - loss: 0.4293 - accuracy: 0.8129\n",
      "Epoch 196/200\n",
      "250/250 [==============================] - 1s 3ms/step - loss: 0.4294 - accuracy: 0.8125\n",
      "Epoch 197/200\n",
      "250/250 [==============================] - 1s 3ms/step - loss: 0.4294 - accuracy: 0.8112\n",
      "Epoch 198/200\n",
      "250/250 [==============================] - 1s 3ms/step - loss: 0.4295 - accuracy: 0.8120\n",
      "Epoch 199/200\n",
      "250/250 [==============================] - 1s 3ms/step - loss: 0.4294 - accuracy: 0.8102\n",
      "Epoch 200/200\n",
      "250/250 [==============================] - 1s 3ms/step - loss: 0.4294 - accuracy: 0.8125\n"
     ]
    },
    {
     "data": {
      "text/plain": [
       "<keras.callbacks.History at 0x2937c593850>"
      ]
     },
     "execution_count": 13,
     "metadata": {},
     "output_type": "execute_result"
    }
   ],
   "source": [
    "model_new.fit(X_train,Y_train, epochs=200) #callbacks=callbacks"
   ]
  },
  {
   "cell_type": "code",
   "execution_count": 14,
   "metadata": {},
   "outputs": [
    {
     "name": "stdout",
     "output_type": "stream",
     "text": [
      "63/63 [==============================] - 1s 3ms/step - loss: 0.4242 - accuracy: 0.8120\n"
     ]
    },
    {
     "data": {
      "text/plain": [
       "[0.424174427986145, 0.8119999766349792]"
      ]
     },
     "execution_count": 14,
     "metadata": {},
     "output_type": "execute_result"
    }
   ],
   "source": [
    "model_new.evaluate(X_test,Y_test)"
   ]
  },
  {
   "cell_type": "code",
   "execution_count": 15,
   "metadata": {},
   "outputs": [
    {
     "name": "stdout",
     "output_type": "stream",
     "text": [
      "250/250 [==============================] - 1s 3ms/step - loss: 0.4292 - accuracy: 0.8117\n"
     ]
    },
    {
     "data": {
      "text/plain": [
       "[0.42921262979507446, 0.8117499947547913]"
      ]
     },
     "execution_count": 15,
     "metadata": {},
     "output_type": "execute_result"
    }
   ],
   "source": [
    "model_new.evaluate(X_train,Y_train)"
   ]
  },
  {
   "cell_type": "code",
   "execution_count": 5,
   "metadata": {},
   "outputs": [],
   "source": [
    "model_new.save('weight_model.h5')"
   ]
  },
  {
   "cell_type": "code",
   "execution_count": 16,
   "metadata": {},
   "outputs": [
    {
     "name": "stdout",
     "output_type": "stream",
     "text": [
      "63/63 [==============================] - 0s 3ms/step\n"
     ]
    }
   ],
   "source": [
    "Y_predicted = model_new.predict(X_test)\n",
    "Y_pred = np.round(Y_predicted)\n"
   ]
  },
  {
   "cell_type": "code",
   "execution_count": 17,
   "metadata": {},
   "outputs": [],
   "source": [
    "Y_Truth = Y_test.to_numpy()"
   ]
  },
  {
   "cell_type": "code",
   "execution_count": 18,
   "metadata": {},
   "outputs": [],
   "source": [
    "from sklearn.metrics import classification_report"
   ]
  },
  {
   "cell_type": "code",
   "execution_count": 19,
   "metadata": {},
   "outputs": [
    {
     "name": "stdout",
     "output_type": "stream",
     "text": [
      "              precision    recall  f1-score   support\n",
      "\n",
      "           0       0.83      0.97      0.89      1589\n",
      "           1       0.63      0.21      0.32       411\n",
      "\n",
      "    accuracy                           0.81      2000\n",
      "   macro avg       0.73      0.59      0.60      2000\n",
      "weighted avg       0.78      0.81      0.77      2000\n",
      "\n"
     ]
    }
   ],
   "source": [
    "print(classification_report(Y_Truth, Y_pred))"
   ]
  },
  {
   "cell_type": "code",
   "execution_count": 20,
   "metadata": {},
   "outputs": [
    {
     "data": {
      "text/plain": [
       "CreditScore          float64\n",
       "Gender                 int64\n",
       "Age                  float64\n",
       "Tenure               float64\n",
       "Balance              float64\n",
       "NumOfProducts        float64\n",
       "HasCrCard              int64\n",
       "IsActiveMember         int64\n",
       "EstimatedSalary      float64\n",
       "Geography_France       uint8\n",
       "Geography_Germany      uint8\n",
       "Geography_Spain        uint8\n",
       "dtype: object"
      ]
     },
     "execution_count": 20,
     "metadata": {},
     "output_type": "execute_result"
    }
   ],
   "source": [
    "X_train.dtypes"
   ]
  },
  {
   "cell_type": "code",
   "execution_count": 21,
   "metadata": {},
   "outputs": [
    {
     "data": {
      "text/plain": [
       "[<tf.Variable 'dense/kernel:0' shape=(12, 1) dtype=float32, numpy=\n",
       " array([[-0.44747236],\n",
       "        [ 0.5197154 ],\n",
       "        [ 5.2898526 ],\n",
       "        [-0.21376935],\n",
       "        [ 0.6096018 ],\n",
       "        [-0.29857662],\n",
       "        [-0.03969895],\n",
       "        [-1.0607368 ],\n",
       "        [ 0.14689462],\n",
       "        [-1.276782  ],\n",
       "        [-0.553059  ],\n",
       "        [-1.2589456 ]], dtype=float32)>,\n",
       " <tf.Variable 'dense/bias:0' shape=(1,) dtype=float32, numpy=array([-1.5444105], dtype=float32)>]"
      ]
     },
     "execution_count": 21,
     "metadata": {},
     "output_type": "execute_result"
    }
   ],
   "source": [
    "init_weights = model_new.layers[0].weights\n",
    "init_weights"
   ]
  }
 ],
 "metadata": {
  "kernelspec": {
   "display_name": "Python 3",
   "language": "python",
   "name": "python3"
  },
  "language_info": {
   "codemirror_mode": {
    "name": "ipython",
    "version": 3
   },
   "file_extension": ".py",
   "mimetype": "text/x-python",
   "name": "python",
   "nbconvert_exporter": "python",
   "pygments_lexer": "ipython3",
   "version": "3.11.0"
  },
  "orig_nbformat": 4
 },
 "nbformat": 4,
 "nbformat_minor": 2
}
